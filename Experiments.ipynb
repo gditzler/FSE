{
 "cells": [
  {
   "cell_type": "markdown",
   "metadata": {},
   "source": [
    "# Post-Hoc Hypothesis Testing for Feature Selection with Large Volumes of Data Notebook\n",
    "\n",
    "## About \n",
    "\n",
    "## Requirements \n",
    "\n",
    "You will need to install the following Python packages to work with this notebook. \n",
    "\n",
    "* [Jupyter](https://jupyter.org/)\n",
    "* [Numpy](http://www.numpy.org/) \n",
    "* [Scipy](http://www.scipy.org/) \n",
    "* [Matplotlib](http://matplotlib.org/)\n",
    "* [Sklearn](http://scikit-learn.org/)\n",
    "* [PyFeast](https://github.com/mutantturkey/PyFeast) \n",
    "\n",
    "If there is a package I missed then send an email to <ditzler@email.arizona.edu>.\n",
    "\n",
    "\n",
    "# Imports"
   ]
  },
  {
   "cell_type": "code",
   "execution_count": 1,
   "metadata": {
    "collapsed": false
   },
   "outputs": [
    {
     "name": "stdout",
     "output_type": "stream",
     "text": [
      "Populating the interactive namespace from numpy and matplotlib\n"
     ]
    }
   ],
   "source": [
    "%pylab inline\n",
    "import numpy as np\n",
    "import matplotlib.pyplot as plt\n",
    "\n",
    "from sklearn.datasets import load_iris \n",
    "from sklearn.feature_selection import chi2 \n",
    "from sklearn.feature_selection.univariate_selection import SelectFpr \n",
    "from scipy.stats import binom\n",
    "\n",
    "from fse.feature_selection.ensemble import npfs_chi2\n",
    "from fse.feature_selection.ensemble import npfs\n",
    "from fse.feature_selection.ensemble import bootstrap_selection\n",
    "from fse.feature_selection.single import chi2_selection\n",
    "from fse.utils import syn_data"
   ]
  },
  {
   "cell_type": "markdown",
   "metadata": {},
   "source": [
    "# Iris Example with Noise "
   ]
  },
  {
   "cell_type": "code",
   "execution_count": 2,
   "metadata": {
    "collapsed": false
   },
   "outputs": [
    {
     "name": "stdout",
     "output_type": "stream",
     "text": [
      "Fisher Iris Experiment\n",
      "pval: [  4.47651499e-03   1.65754167e-01   5.94344354e-26   2.50017968e-15]\n",
      "sels: [2 3]\n",
      "v: [ 0.  0.  1.  1.]\n",
      "22 24\n"
     ]
    }
   ],
   "source": [
    "iris = load_iris()\n",
    "X, y = iris.data, iris.target\n",
    "v = np.zeros((4,))\n",
    "\n",
    "pval, sels = chi2_selection(1.0*X, y, 2)\n",
    "v[sels] = 1.\n",
    "\n",
    "print \"Fisher Iris Experiment\"\n",
    "print \"pval:\", pval\n",
    "print \"sels:\", sels\n",
    "print \"v:\", v\n",
    "\n",
    "X2 = np.concatenate((X, np.random.rand(150,20)*20), axis =1)\n",
    "s,b,d = npfs_chi2(X2, y, fpr=0.001, alpha=0.05, n_bootstraps=50)\n",
    "print len(s), len(X2[1])"
   ]
  },
  {
   "cell_type": "markdown",
   "metadata": {},
   "source": [
    "# Synthetic Data\n",
    "\n",
    "## Single Experiement \n",
    "This is only to see if the code is working. "
   ]
  },
  {
   "cell_type": "code",
   "execution_count": 3,
   "metadata": {
    "collapsed": false
   },
   "outputs": [
    {
     "name": "stdout",
     "output_type": "stream",
     "text": [
      "3.0\n",
      "22 [0, 1, 2, 3, 4, 6, 8, 10, 11, 12, 13, 14, 15, 16, 17, 18, 19, 20, 21, 22, 23, 24]\n",
      "25 [ 35.  27.  48.  50.  50.   1.  12.   3.   9.   3.   4.  15.  23.  19.   7.\n",
      "   6.   7.   4.   6.  21.   4.   4.  11.   8.  10.]\n",
      "Set size: 15.86\n"
     ]
    }
   ],
   "source": [
    "n_features = 25\n",
    "n_observations = 100\n",
    "n_relevant = 5\n",
    "\n",
    "data, labels = syn_data(n_features = 25, n_observations = 100, n_relevant = 5)\n",
    "\n",
    "s,b,d = npfs_chi2(data, labels, fpr=0.01, alpha=0.01, n_bootstraps=50)\n",
    "k = bootstrap_selection(b.sum(axis=1), 100, normalizer=\"poly\", poly=0)\n",
    "\n",
    "print binom.ppf(1 - .01, 50, 0.01)\n",
    "print len(s), s\n",
    "print len(b.sum(axis=1)), b.sum(axis=1)\n",
    "print \"Set size:\", k"
   ]
  },
  {
   "cell_type": "markdown",
   "metadata": {},
   "source": [
    "## Effect of the polynomial\n",
    "\n",
    "In this experiment we measure the effect that the polynomial has on the ability of the bootstrap procedure to detect if a feature is relevant. The polynomial scaling proceedure is implemented as follows. After running NPFS, the Bernoulli R.V.s are normalized to 1 ($p(i)$ for $i \\in [K]$) then the effective probability is raised to the $x^{\\textrm{th}}$ power. That is\n",
    "\n",
    "$$\n",
    "p_{new} (i) = \\frac{1}{Z} p^x(i)\n",
    "$$\n",
    "\n",
    "where $x \\geq 0$. We then vary $x$ in the range $[0,5]$ and measure the feature set size that is returned. Clearly as $x$ becomes greater the smaller probabilities will vanish, which will result in fewer features being selected. \n"
   ]
  },
  {
   "cell_type": "code",
   "execution_count": 15,
   "metadata": {
    "collapsed": false
   },
   "outputs": [],
   "source": [
    "n_averages = 25\n",
    "n_features = 25\n",
    "n_observations = 100\n",
    "n_relevant = 5\n",
    "polies = [1.*x/10 for x in range(60)]\n",
    "set_sizes = np.zeros((len(polies),))\n",
    "no_correction = 0\n",
    "\n",
    "for pn in range(len(polies)):\n",
    "    poly = polies[pn]\n",
    "    for na in range(n_averages):\n",
    "        data, labels = syn_data(n_features = 25, n_observations = 100, n_relevant = 5)\n",
    "        sel, binm, delta = npfs_chi2(data, labels, fpr=0.01, alpha=0.01, n_bootstraps=50)\n",
    "        set_sizes[pn] += bootstrap_selection(b.sum(axis=1), 100, normalizer=\"poly\", poly=poly)\n",
    "        no_correction += bootstrap_selection(b.sum(axis=1), 100, normalizer=\"minmax\")"
   ]
  },
  {
   "cell_type": "code",
   "execution_count": 7,
   "metadata": {
    "collapsed": false
   },
   "outputs": [
    {
     "data": {
      "image/png": "[encoded data removed]",
      "text/plain": [
       "<matplotlib.figure.Figure at 0x10963bbd0>"
      ]
     },
     "metadata": {},
     "output_type": "display_data"
    }
   ],
   "source": [
    "# plot the results from above\n",
    "axis_font = {'size':'18'}\n",
    "plt.plot(polies, set_sizes/n_averages, label='Bootstrap', lw=2)\n",
    "plt.plot(polies, np.ones((len(polies),))*n_relevant, label='Optimal', lw=2)\n",
    "plt.plot(polies, np.ones((len(polies),))*no_correction/(pn*n_averages), label='MinMax', lw=2)\n",
    "\n",
    "plt.xlabel('$x^p$', **axis_font)\n",
    "plt.ylabel('Feature Set Size', **axis_font)\n",
    "plt.legend()\n",
    "plt.savefig('npfs_feature_size_poly.pdf', bbox_inches='tight')\n",
    "plt.show()"
   ]
  },
  {
   "cell_type": "markdown",
   "metadata": {},
   "source": [
    "# NPFS Original Selections\n",
    "\n",
    "This section of the notebook contains an experiment to examine the Bernoulli matrix in NPFS. Recall that NPFS builds up a matrix of Bernoulli R.V.s and recall that we claim if we examine the sum of the rows scaled by the number of bootstraps that we obtain (approximately) $p_0 = k/K$. We show that this is indeed the case, though we could craft up other possibility for how to view the random variable.\n",
    "\n",
    "In this experiment, we set $k = 25$, $K=100$, $k^*=5$, and $N=500$. We examine the histgram of $\\hat{p}_0$ for each of the features and we do in fact see that $\\mathbb{E}[\\hat{p}_0] \\approx k/K$."
   ]
  },
  {
   "cell_type": "code",
   "execution_count": 13,
   "metadata": {
    "collapsed": false
   },
   "outputs": [
    {
     "data": {
      "image/png": "[encoded data removed]",
      "text/plain": [
       "<matplotlib.figure.Figure at 0x1060f6050>"
      ]
     },
     "metadata": {},
     "output_type": "display_data"
    },
    {
     "name": "stdout",
     "output_type": "stream",
     "text": [
      "Expected Value: 0.25\n"
     ]
    }
   ],
   "source": [
    "n_boots = 100\n",
    "n_feats = 100\n",
    "n_relev = 5\n",
    "n_selec = 25\n",
    "n_averages = 100\n",
    "axis_font = {'size':'18'}\n",
    "binz = 10\n",
    "bino_vec = np.zeros((n_feats,))\n",
    "\n",
    "for na in range(n_averages):\n",
    "    bino_mat = np.zeros([n_feats, n_boots])\n",
    "    for n in range(n_boots):\n",
    "        x = np.random.permutation(n_feats)\n",
    "        x = x[:n_selec]\n",
    "        bino_mat[x[:n_selec], n] = 1.\n",
    "    bino_vec += bino_mat.sum(axis=1)/n_boots\n",
    "\n",
    "bino_vec /= n_averages\n",
    "n, bins, patches = plt.hist(bino_vec, binz)\n",
    "plt.xlabel('Detections/Bootstraps', **axis_font)\n",
    "plt.ylabel('Probability', **axis_font)\n",
    "plt.savefig('npfs_detections.pdf', bbox_inches='tight')\n",
    "plt.show()\n",
    "\n",
    "print \"Expected Value:\", bino_vec.mean()"
   ]
  },
  {
   "cell_type": "code",
   "execution_count": null,
   "metadata": {
    "collapsed": true
   },
   "outputs": [],
   "source": []
  }
 ],
 "metadata": {
  "kernelspec": {
   "display_name": "Python 2",
   "language": "python",
   "name": "python2"
  },
  "language_info": {
   "codemirror_mode": {
    "name": "ipython",
    "version": 2
   },
   "file_extension": ".py",
   "mimetype": "text/x-python",
   "name": "python",
   "nbconvert_exporter": "python",
   "pygments_lexer": "ipython2",
   "version": "2.7.10"
  }
 },
 "nbformat": 4,
 "nbformat_minor": 0
}
