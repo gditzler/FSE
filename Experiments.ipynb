{
 "cells": [
  {
   "cell_type": "markdown",
   "metadata": {},
   "source": [
    "# Post-Hoc Hypothesis Testing for Feature Selection with Large Volumes of Data Notebook\n",
    "\n",
    "## About \n",
    "\n",
    "## Requirements \n",
    "\n",
    "You will need to install the following Python packages to work with this notebook. \n",
    "\n",
    "* [Jupyter](https://jupyter.org/)\n",
    "* [Numpy](http://www.numpy.org/) \n",
    "* [Scipy](http://www.scipy.org/) \n",
    "* [Matplotlib](http://matplotlib.org/)\n",
    "* [Sklearn](http://scikit-learn.org/)\n",
    "* [PyFeast](https://github.com/mutantturkey/PyFeast) \n",
    "\n",
    "If there is a package I missed then send an email to <ditzler@email.arizona.edu>.\n",
    "\n",
    "\n",
    "# Imports"
   ]
  },
  {
   "cell_type": "code",
   "execution_count": 1,
   "metadata": {
    "collapsed": false
   },
   "outputs": [
    {
     "name": "stdout",
     "output_type": "stream",
     "text": [
      "Populating the interactive namespace from numpy and matplotlib\n"
     ]
    }
   ],
   "source": [
    "%pylab inline\n",
    "import pickle\n",
    "import numpy as np\n",
    "import matplotlib.pyplot as plt\n",
    "\n",
    "from sklearn.datasets import load_iris \n",
    "from sklearn.feature_selection import chi2 \n",
    "from sklearn.feature_selection.univariate_selection import SelectFpr \n",
    "from scipy.stats import binom\n",
    "\n",
    "from fse.feature_selection.ensemble import npfs_chi2\n",
    "from fse.feature_selection.ensemble import npfs\n",
    "from fse.feature_selection.ensemble import bootstrap_selection\n",
    "from fse.feature_selection.single import chi2_selection\n",
    "from fse.utils import syn_data\n",
    "from fse.utils import similarities\n",
    "from fse.experiments import exp_syn_stability"
   ]
  },
  {
   "cell_type": "markdown",
   "metadata": {},
   "source": [
    "# Iris Example with Noise "
   ]
  },
  {
   "cell_type": "code",
   "execution_count": null,
   "metadata": {
    "collapsed": false
   },
   "outputs": [],
   "source": [
    "iris = load_iris()\n",
    "X, y = iris.data, iris.target\n",
    "v = np.zeros((4,))\n",
    "\n",
    "pval, sels = chi2_selection(1.0*X, y, 2)\n",
    "v[sels] = 1.\n",
    "\n",
    "print \"Fisher Iris Experiment\"\n",
    "print \"pval:\", pval\n",
    "print \"sels:\", sels\n",
    "print \"v:\", v\n",
    "\n",
    "X2 = np.concatenate((X, np.random.rand(150,20)*20), axis =1)\n",
    "s,b,d = npfs_chi2(X2, y, fpr=0.001, alpha=0.05, n_bootstraps=50)\n",
    "print len(s), len(X2[1])"
   ]
  },
  {
   "cell_type": "markdown",
   "metadata": {},
   "source": [
    "# Synthetic Data\n",
    "\n",
    "## Effect of the polynomial\n",
    "\n",
    "### Effect of the Polynomial on the Sampling Procedure\n",
    "\n",
    "In this experiment we measure the effect that the polynomial has on the ability of the bootstrap procedure to detect if a feature is relevant. The polynomial scaling proceedure is implemented as follows. After running NPFS, the Bernoulli R.V.s are normalized to 1 ($p(i)$ for $i \\in [K]$) then the effective probability is raised to the $x^{\\textrm{th}}$ power. That is\n",
    "\n",
    "$$\n",
    "p_{new} (i) = \\frac{1}{Z} p^x(i)\n",
    "$$\n",
    "\n",
    "where $x \\geq 0$ and $Z$ is a normalization constant. We then vary $x$ in the range $[0,5]$ and measure the feature set size that is returned. Clearly as $x$ becomes greater the smaller probabilities will vanish, which will result in fewer features being selected. This result is also compared to not applying the polynomial, which is simply using a normalized version of the counts.\n"
   ]
  },
  {
   "cell_type": "code",
   "execution_count": 19,
   "metadata": {
    "collapsed": false
   },
   "outputs": [],
   "source": [
    "n_averages = 15\n",
    "n_features = 25\n",
    "n_observations = 100\n",
    "n_relevant = 3\n",
    "polies = [1.*x/10 for x in range(60)]\n",
    "\n",
    "set_sizes = np.zeros((len(polies),))\n",
    "no_correction = 0\n",
    "\n",
    "for pn in range(len(polies)):\n",
    "    poly = polies[pn]\n",
    "    for na in range(n_averages):\n",
    "        data, labels = syn_data(n_features = n_features, n_observations = n_observations, n_relevant = n_relevant)\n",
    "        sel, binm, delta = npfs_chi2(data, labels, fpr=0.01, alpha=0.01, n_bootstraps=50)\n",
    "        x1,_ = bootstrap_selection(binm.sum(axis=1), 100, normalizer=\"poly\", poly=poly)\n",
    "        x2,_ = bootstrap_selection(binm.sum(axis=1), 100, normalizer=\"minmax\")\n",
    "        set_sizes[pn] += x1\n",
    "        no_correction += x2"
   ]
  },
  {
   "cell_type": "code",
   "execution_count": 20,
   "metadata": {
    "collapsed": false
   },
   "outputs": [
    {
     "data": {
      "image/png": "[encoded data removed]",
      "text/plain": [
       "<matplotlib.figure.Figure at 0x10a85ff90>"
      ]
     },
     "metadata": {},
     "output_type": "display_data"
    }
   ],
   "source": [
    "# plot the results from above\n",
    "axis_font = {'size':'18'}\n",
    "plt.plot(polies, set_sizes/n_averages, label='Bootstrap', lw=2)\n",
    "plt.plot(polies, np.ones((len(polies),))*n_relevant, label='Optimal', lw=2)\n",
    "plt.plot(polies, np.ones((len(polies),))*no_correction/(pn*n_averages), label='MinMax', lw=2)\n",
    "\n",
    "plt.xlabel('$p\\, (x^p)$', **axis_font)\n",
    "plt.ylabel('Feature Set Size', **axis_font)\n",
    "plt.legend()\n",
    "plt.savefig('npfs_feature_size_poly.pdf', bbox_inches='tight')\n",
    "plt.show()"
   ]
  },
  {
   "cell_type": "markdown",
   "metadata": {},
   "source": [
    "### Effect of the Polynomial Scaling on a Concieved Problem \n",
    "\n",
    "The polynomial that is applied to the probabilities will have a large impact on the bootstrap selection procedure. In this example, we look at the effect that the order of the polynomial will have on the probabilities. "
   ]
  },
  {
   "cell_type": "code",
   "execution_count": null,
   "metadata": {
    "collapsed": false
   },
   "outputs": [],
   "source": [
    "axis_font = {'size':'18'}\n",
    "n = 10\n",
    "p = np.random.random((n,))\n",
    "p1 = np.sort(p/p.sum())\n",
    "p12 = np.sqrt(p1)\n",
    "p2 = p1**2\n",
    "p3 = p1**3\n",
    "p6 = p1**6\n",
    "\n",
    "p12 = p12/p12.sum()\n",
    "p2 = p2/p2.sum()\n",
    "p3 = p3/p3.sum()\n",
    "p6 = p6/p6.sum()\n",
    "\n",
    "f, (ax1, ax2, ax3, ax4, ax5) = plt.subplots(1, 5, sharey=True)\n",
    "\n",
    "ax1.stem(p1)\n",
    "ax2.stem(p12)\n",
    "ax3.stem(p2)\n",
    "ax4.stem(p3)\n",
    "ax5.stem(p6)\n",
    "\n",
    "ax1.set_title('$p^1$', **axis_font)\n",
    "ax2.set_title('$\\sqrt{p}$', **axis_font)\n",
    "ax3.set_title('$p^2$', **axis_font)\n",
    "ax4.set_title('$p^3$', **axis_font)\n",
    "ax5.set_title('$p^6$', **axis_font)\n",
    "\n",
    "ax1.get_xaxis().set_ticks([])\n",
    "ax2.get_xaxis().set_ticks([])\n",
    "ax3.get_xaxis().set_ticks([])\n",
    "ax4.get_xaxis().set_ticks([])\n",
    "ax5.get_xaxis().set_ticks([])\n",
    "\n",
    "plt.savefig('poly_case4.pdf', bbox_inches='tight')\n",
    "plt.show()"
   ]
  },
  {
   "cell_type": "markdown",
   "metadata": {},
   "source": [
    "# NPFS' $p_0$\n",
    "\n",
    "This section of the notebook contains an experiment to examine the Bernoulli matrix in NPFS. Recall that NPFS builds up a matrix of Bernoulli R.V.s and recall that we claim if we examine the sum of the rows scaled by the number of bootstraps that we obtain (approximately) $p_0 = k/K$. We show that this is indeed the case, though we could craft up other possibility for how to view the random variable.\n",
    "\n",
    "In this experiment, we set $k = 25$, $K=100$, $k^*=5$, and $N=500$. We examine the histgram of $\\hat{p}_0$ for each of the features and we do in fact see that $\\mathbb{E}[\\hat{p}_0] \\approx k/K$."
   ]
  },
  {
   "cell_type": "code",
   "execution_count": null,
   "metadata": {
    "collapsed": false
   },
   "outputs": [],
   "source": [
    "n_boots, n_feats, n_relev, n_selec, n_averages = 100, 100, 5, 25, 100\n",
    "axis_font = {'size':'18'}\n",
    "binz = 10\n",
    "bino_vec = np.zeros((n_feats,))\n",
    "\n",
    "for na in range(n_averages):\n",
    "    bino_mat = np.zeros([n_feats, n_boots])\n",
    "    for n in range(n_boots):\n",
    "        x = np.random.permutation(n_feats)\n",
    "        x = x[:n_selec]\n",
    "        bino_mat[x[:n_selec], n] = 1.\n",
    "    bino_vec += bino_mat.sum(axis=1)/n_boots\n",
    "\n",
    "bino_vec /= n_averages\n",
    "n, bins, patches = plt.hist(bino_vec, binz)\n",
    "plt.xlabel('Detections/Bootstraps', **axis_font)\n",
    "plt.ylabel('Probability', **axis_font)\n",
    "plt.savefig('npfs_detections.pdf', bbox_inches='tight')\n",
    "plt.show()\n",
    "\n",
    "print \"Expected Value:\", bino_vec.mean()"
   ]
  },
  {
   "cell_type": "markdown",
   "metadata": {},
   "source": [
    "## Experiment "
   ]
  },
  {
   "cell_type": "code",
   "execution_count": 8,
   "metadata": {
    "collapsed": false
   },
   "outputs": [],
   "source": [
    "exp_syn_stability(fname=\"stability_a25_K100_n250_r15_b100.pkl\", \n",
    "                  n_avg=25, \n",
    "                  n_feat=100, \n",
    "                  n_obs=250, \n",
    "                  n_rel=15, \n",
    "                  n_boots=50, \n",
    "                  fpr=0.05, \n",
    "                  alpha=0.1)"
   ]
  },
  {
   "cell_type": "code",
   "execution_count": 21,
   "metadata": {
    "collapsed": false
   },
   "outputs": [
    {
     "data": {
      "image/png": "[encoded data removed]",
      "text/plain": [
       "<matplotlib.figure.Figure at 0x10a94f390>"
      ]
     },
     "metadata": {},
     "output_type": "display_data"
    }
   ],
   "source": [
    "statistics = pickle.load(open(\"stability_a25_K100_n250_r15_b100.pkl\", \"rb\"))\n",
    "axis_font = {'size':'18'}\n",
    "nrel = 15\n",
    "\n",
    "plt.plot(statistics[\"polies\"], statistics[\"boot_ss\"], label='Bootstrap', lw=2)\n",
    "plt.plot(statistics[\"polies\"], np.ones((len(statistics[\"polies\"]),))*nrel, label='Optimal', lw=2)\n",
    "plt.plot(statistics[\"polies\"], np.ones((len(statistics[\"polies\"]),))*statistics[\"nosc_ss\"], label='NPFS', lw=2)\n",
    "plt.show()\n",
    "\n",
    "#plt.plot(statistics[\"polies\"], statistics[\"boot_no\"], label='Bootstrap', lw=2)\n",
    "#plt.plot(statistics[\"polies\"], np.ones((len(statistics[\"polies\"]),))*statistics[\"npfs_no\"], label='NPFS', lw=2)\n"
   ]
  },
  {
   "cell_type": "code",
   "execution_count": null,
   "metadata": {
    "collapsed": true
   },
   "outputs": [],
   "source": []
  }
 ],
 "metadata": {
  "kernelspec": {
   "display_name": "Python 2",
   "language": "python",
   "name": "python2"
  },
  "language_info": {
   "codemirror_mode": {
    "name": "ipython",
    "version": 2
   },
   "file_extension": ".py",
   "mimetype": "text/x-python",
   "name": "python",
   "nbconvert_exporter": "python",
   "pygments_lexer": "ipython2",
   "version": "2.7.10"
  }
 },
 "nbformat": 4,
 "nbformat_minor": 0
}
